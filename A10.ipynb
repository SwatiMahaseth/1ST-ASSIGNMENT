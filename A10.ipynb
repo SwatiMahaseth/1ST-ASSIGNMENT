{
 "cells": [
  {
   "cell_type": "code",
   "execution_count": 1,
   "metadata": {},
   "outputs": [],
   "source": [
    "import requests\n",
    "from bs4 import BeautifulSoup"
   ]
  },
  {
   "cell_type": "code",
   "execution_count": 2,
   "metadata": {},
   "outputs": [],
   "source": [
    "#fetching url\n",
    "url= 'https://www.nobroker.in/property/sale/delhi/multiple?searchParam=W3sibGF0IjoyOC42MDg2NjY1LCJsb24iOjc3LjE0MDQxMzEsInBsYWNlSWQiOiJDaElKemZ6LURORWNEVGtSTlNWR19VTG81NE0iLCJwbGFjZU5hbWUiOiJEZWxoaSBDYW50dCBNZXRybyBTdGF0aW9uIn0seyJsYXQiOjI4LjU0NzAxMTksImxvbiI6NzcuMTk0NTE0MiwicGxhY2VJZCI6IkNoSUp0YXVwLVBVZERUa1J6VTVoSUctbi1OQSIsInBsYWNlTmFtZSI6IklJVCBNZXRybyBTdGF0aW9uIn0seyJsYXQiOjI4LjU2NjEwNjYsImxvbiI6NzcuMTM5OTU4MywicGxhY2VJZCI6IkNoSUozd2JWaFZNY0RUa1Jra2lLRjl1b1pwYyIsInBsYWNlTmFtZSI6IlNoYW5rYXIgVmloYXIifV0=&radius=2.0'"
   ]
  },
  {
   "cell_type": "code",
   "execution_count": 3,
   "metadata": {},
   "outputs": [],
   "source": [
    "page = requests.get(url)"
   ]
  },
  {
   "cell_type": "code",
   "execution_count": 4,
   "metadata": {},
   "outputs": [
    {
     "data": {
      "text/plain": [
       "<Response [200]>"
      ]
     },
     "execution_count": 4,
     "metadata": {},
     "output_type": "execute_result"
    }
   ],
   "source": [
    "page"
   ]
  },
  {
   "cell_type": "code",
   "execution_count": 5,
   "metadata": {},
   "outputs": [],
   "source": [
    "htmlContent= page.content"
   ]
  },
  {
   "cell_type": "code",
   "execution_count": 26,
   "metadata": {},
   "outputs": [],
   "source": [
    "#htmlContent"
   ]
  },
  {
   "cell_type": "code",
   "execution_count": 7,
   "metadata": {},
   "outputs": [],
   "source": [
    "soup= BeautifulSoup(htmlContent,'html.parser')"
   ]
  },
  {
   "cell_type": "code",
   "execution_count": 27,
   "metadata": {},
   "outputs": [],
   "source": [
    "#print(soup.prettify())"
   ]
  },
  {
   "cell_type": "code",
   "execution_count": 28,
   "metadata": {},
   "outputs": [],
   "source": [
    "#fetching house title\n",
    "title = soup.find_all('h2', class_='heading-6 font-semi-bold nb__1AShY')"
   ]
  },
  {
   "cell_type": "code",
   "execution_count": 10,
   "metadata": {},
   "outputs": [
    {
     "data": {
      "text/plain": [
       "['3 BHK Flat  For Sale  In Apartment In  Rajouri Garden ',\n",
       " '3 BHK Flat  For Sale  In Apartment In Naraina ',\n",
       " '3 BHK Flat  For Sale  In Naraina ',\n",
       " '2 BHK Flat  For Sale  In Naraina Village ',\n",
       " '2 BHK Flat  For Sale  In Naraina ',\n",
       " '4 BHK Flat  For Sale  In Naraina ',\n",
       " '2 BHK Flat  For Sale  In Naraina Vihar ',\n",
       " '4+ BHK In Independent House  For Sale  In Naraina ',\n",
       " '1 BHK Flat  For Sale  In Naraina ',\n",
       " '4+ BHK Flat  For Sale  In Naraina Vihar  ']"
      ]
     },
     "execution_count": 10,
     "metadata": {},
     "output_type": "execute_result"
    }
   ],
   "source": [
    "house_title= []\n",
    "for i in range(0,len(title)):\n",
    "    house_title.append(title[i].get_text())\n",
    "house_title"
   ]
  },
  {
   "cell_type": "code",
   "execution_count": 29,
   "metadata": {},
   "outputs": [],
   "source": [
    "#fetching house location\n",
    "location = soup.find_all('div', class_='nb__2CMjv')"
   ]
  },
  {
   "cell_type": "code",
   "execution_count": 12,
   "metadata": {},
   "outputs": [
    {
     "data": {
      "text/plain": [
       "['opp. Gambir Hostpital, Near Relaxo Store',\n",
       " 'C Block, Naraina Vihar Near Aravali Public School',\n",
       " 'Standalone Building, C Block, Naraina Vihar, Near Aravali Public School',\n",
       " 'Standalone Building, Block  C near Aravali Public School',\n",
       " 'Standalone Building, Naraina Village, Near Naraina Metro station ',\n",
       " 'Standalone Building, B - Block,  near Naraina Vihar metro station',\n",
       " 'Standalone Building, Shindi Colony, Near Naraina Vihar Metro Station',\n",
       " 'Independent House,  Naraina Village, Near Naraina Vihar Metro',\n",
       " 'Standalone Building, Shindi Colony, Naraina Village near Naraina Vihar metro station ',\n",
       " 'Standalone Building, Shindi Colony, Near Naraina Vihar Metro Station']"
      ]
     },
     "execution_count": 12,
     "metadata": {},
     "output_type": "execute_result"
    }
   ],
   "source": [
    "house_location= []\n",
    "for i in range(0,len(location)):\n",
    "    house_location.append(location[i].get_text())\n",
    "house_location"
   ]
  },
  {
   "cell_type": "code",
   "execution_count": 30,
   "metadata": {},
   "outputs": [],
   "source": [
    "#fetching the area of the house\n",
    "\n",
    "area = soup.find_all('div', class_='nb__3oNyC')"
   ]
  },
  {
   "cell_type": "code",
   "execution_count": 14,
   "metadata": {},
   "outputs": [
    {
     "data": {
      "text/plain": [
       "['1,800 sqft',\n",
       " '1,125 sqft',\n",
       " '1,125 sqft',\n",
       " '500 sqft',\n",
       " '585 sqft',\n",
       " '2,250 sqft',\n",
       " '600 sqft',\n",
       " '2,700 sqft',\n",
       " '600 sqft',\n",
       " '2,400 sqft']"
      ]
     },
     "execution_count": 14,
     "metadata": {},
     "output_type": "execute_result"
    }
   ],
   "source": [
    "house_area= []\n",
    "for i in range(0,len(area)):\n",
    "    house_area.append(area[i].get_text())\n",
    "house_area"
   ]
  },
  {
   "cell_type": "code",
   "execution_count": 31,
   "metadata": {},
   "outputs": [],
   "source": [
    "aditional_info = soup.find_all('div', class_='font-semi-bold heading-6')"
   ]
  },
  {
   "cell_type": "code",
   "execution_count": 21,
   "metadata": {},
   "outputs": [
    {
     "data": {
      "text/plain": [
       "['₹1.32 Lacs/Month',\n",
       " '₹80,240/Month',\n",
       " '₹80,240/Month',\n",
       " '₹12,036/Month',\n",
       " '₹18,340/Month',\n",
       " '₹1.29 Lacs/Month',\n",
       " '₹37,254/Month',\n",
       " '₹2.01 Lacs/Month',\n",
       " '₹11,462/Month',\n",
       " '₹1.49 Lacs/Month']"
      ]
     },
     "execution_count": 21,
     "metadata": {},
     "output_type": "execute_result"
    }
   ],
   "source": [
    "#fetching the EMI if the house\n",
    "house_EMI= []\n",
    "for i in range(1,len(aditional_info),3):\n",
    "    house_EMI.append(aditional_info[i].get_text())\n",
    "house_EMI"
   ]
  },
  {
   "cell_type": "code",
   "execution_count": 22,
   "metadata": {},
   "outputs": [
    {
     "data": {
      "text/plain": [
       "['₹2.3 Crores',\n",
       " '₹1.4 Crores',\n",
       " '₹1.4 Crores',\n",
       " '₹21 Lacs',\n",
       " '₹32 Lacs',\n",
       " '₹2.25 Crores',\n",
       " '₹65 Lacs',\n",
       " '₹3.5 Crores',\n",
       " '₹20 Lacs',\n",
       " '₹2.6 Crores']"
      ]
     },
     "execution_count": 22,
     "metadata": {},
     "output_type": "execute_result"
    }
   ],
   "source": [
    "#fetching the total price of the house\n",
    "house_price= []\n",
    "for i in range(2,len(aditional_info),3):\n",
    "    house_price.append(aditional_info[i].get_text())\n",
    "house_price"
   ]
  },
  {
   "cell_type": "code",
   "execution_count": 23,
   "metadata": {},
   "outputs": [],
   "source": [
    "#creating the dataframe\n",
    "data = list(zip(house_title,house_location,house_area,house_EMI,house_price))"
   ]
  },
  {
   "cell_type": "code",
   "execution_count": 24,
   "metadata": {},
   "outputs": [],
   "source": [
    "import pandas as pd\n",
    "df = pd.DataFrame(data,columns=['house_title','house_location','house_area','house_EMI','house_price'])"
   ]
  },
  {
   "cell_type": "code",
   "execution_count": 25,
   "metadata": {},
   "outputs": [
    {
     "data": {
      "text/html": [
       "<div>\n",
       "<style scoped>\n",
       "    .dataframe tbody tr th:only-of-type {\n",
       "        vertical-align: middle;\n",
       "    }\n",
       "\n",
       "    .dataframe tbody tr th {\n",
       "        vertical-align: top;\n",
       "    }\n",
       "\n",
       "    .dataframe thead th {\n",
       "        text-align: right;\n",
       "    }\n",
       "</style>\n",
       "<table border=\"1\" class=\"dataframe\">\n",
       "  <thead>\n",
       "    <tr style=\"text-align: right;\">\n",
       "      <th></th>\n",
       "      <th>house_title</th>\n",
       "      <th>house_location</th>\n",
       "      <th>house_area</th>\n",
       "      <th>house_EMI</th>\n",
       "      <th>house_price</th>\n",
       "    </tr>\n",
       "  </thead>\n",
       "  <tbody>\n",
       "    <tr>\n",
       "      <th>0</th>\n",
       "      <td>3 BHK Flat  For Sale  In Apartment In  Rajouri...</td>\n",
       "      <td>opp. Gambir Hostpital, Near Relaxo Store</td>\n",
       "      <td>1,800 sqft</td>\n",
       "      <td>₹1.32 Lacs/Month</td>\n",
       "      <td>₹2.3 Crores</td>\n",
       "    </tr>\n",
       "    <tr>\n",
       "      <th>1</th>\n",
       "      <td>3 BHK Flat  For Sale  In Apartment In Naraina</td>\n",
       "      <td>C Block, Naraina Vihar Near Aravali Public School</td>\n",
       "      <td>1,125 sqft</td>\n",
       "      <td>₹80,240/Month</td>\n",
       "      <td>₹1.4 Crores</td>\n",
       "    </tr>\n",
       "    <tr>\n",
       "      <th>2</th>\n",
       "      <td>3 BHK Flat  For Sale  In Naraina</td>\n",
       "      <td>Standalone Building, C Block, Naraina Vihar, N...</td>\n",
       "      <td>1,125 sqft</td>\n",
       "      <td>₹80,240/Month</td>\n",
       "      <td>₹1.4 Crores</td>\n",
       "    </tr>\n",
       "    <tr>\n",
       "      <th>3</th>\n",
       "      <td>2 BHK Flat  For Sale  In Naraina Village</td>\n",
       "      <td>Standalone Building, Block  C near Aravali Pub...</td>\n",
       "      <td>500 sqft</td>\n",
       "      <td>₹12,036/Month</td>\n",
       "      <td>₹21 Lacs</td>\n",
       "    </tr>\n",
       "    <tr>\n",
       "      <th>4</th>\n",
       "      <td>2 BHK Flat  For Sale  In Naraina</td>\n",
       "      <td>Standalone Building, Naraina Village, Near Nar...</td>\n",
       "      <td>585 sqft</td>\n",
       "      <td>₹18,340/Month</td>\n",
       "      <td>₹32 Lacs</td>\n",
       "    </tr>\n",
       "  </tbody>\n",
       "</table>\n",
       "</div>"
      ],
      "text/plain": [
       "                                         house_title  \\\n",
       "0  3 BHK Flat  For Sale  In Apartment In  Rajouri...   \n",
       "1     3 BHK Flat  For Sale  In Apartment In Naraina    \n",
       "2                  3 BHK Flat  For Sale  In Naraina    \n",
       "3          2 BHK Flat  For Sale  In Naraina Village    \n",
       "4                  2 BHK Flat  For Sale  In Naraina    \n",
       "\n",
       "                                      house_location  house_area  \\\n",
       "0           opp. Gambir Hostpital, Near Relaxo Store  1,800 sqft   \n",
       "1  C Block, Naraina Vihar Near Aravali Public School  1,125 sqft   \n",
       "2  Standalone Building, C Block, Naraina Vihar, N...  1,125 sqft   \n",
       "3  Standalone Building, Block  C near Aravali Pub...    500 sqft   \n",
       "4  Standalone Building, Naraina Village, Near Nar...    585 sqft   \n",
       "\n",
       "          house_EMI  house_price  \n",
       "0  ₹1.32 Lacs/Month  ₹2.3 Crores  \n",
       "1     ₹80,240/Month  ₹1.4 Crores  \n",
       "2     ₹80,240/Month  ₹1.4 Crores  \n",
       "3     ₹12,036/Month     ₹21 Lacs  \n",
       "4     ₹18,340/Month     ₹32 Lacs  "
      ]
     },
     "execution_count": 25,
     "metadata": {},
     "output_type": "execute_result"
    }
   ],
   "source": [
    "df.head()"
   ]
  },
  {
   "cell_type": "code",
   "execution_count": null,
   "metadata": {},
   "outputs": [],
   "source": []
  },
  {
   "cell_type": "code",
   "execution_count": null,
   "metadata": {},
   "outputs": [],
   "source": []
  },
  {
   "cell_type": "code",
   "execution_count": null,
   "metadata": {},
   "outputs": [],
   "source": []
  }
 ],
 "metadata": {
  "kernelspec": {
   "display_name": "Python 3",
   "language": "python",
   "name": "python3"
  },
  "language_info": {
   "codemirror_mode": {
    "name": "ipython",
    "version": 3
   },
   "file_extension": ".py",
   "mimetype": "text/x-python",
   "name": "python",
   "nbconvert_exporter": "python",
   "pygments_lexer": "ipython3",
   "version": "3.6.4"
  }
 },
 "nbformat": 4,
 "nbformat_minor": 2
}
