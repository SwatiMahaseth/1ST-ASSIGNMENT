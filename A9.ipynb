{
 "cells": [
  {
   "cell_type": "code",
   "execution_count": 1,
   "metadata": {},
   "outputs": [],
   "source": [
    "import requests\n",
    "from bs4 import BeautifulSoup"
   ]
  },
  {
   "cell_type": "code",
   "execution_count": 2,
   "metadata": {},
   "outputs": [],
   "source": [
    "#fetching intenshala url\n",
    "source = 'https://internshala.com/fresher-jobs'"
   ]
  },
  {
   "cell_type": "code",
   "execution_count": 3,
   "metadata": {},
   "outputs": [],
   "source": [
    "page = requests.get(source)"
   ]
  },
  {
   "cell_type": "code",
   "execution_count": 4,
   "metadata": {},
   "outputs": [
    {
     "data": {
      "text/plain": [
       "<Response [200]>"
      ]
     },
     "execution_count": 4,
     "metadata": {},
     "output_type": "execute_result"
    }
   ],
   "source": [
    "page"
   ]
  },
  {
   "cell_type": "code",
   "execution_count": 5,
   "metadata": {},
   "outputs": [],
   "source": [
    "htmlContent= page.content"
   ]
  },
  {
   "cell_type": "code",
   "execution_count": 22,
   "metadata": {},
   "outputs": [],
   "source": [
    "#htmlContent"
   ]
  },
  {
   "cell_type": "code",
   "execution_count": 7,
   "metadata": {},
   "outputs": [],
   "source": [
    "soup= BeautifulSoup(htmlContent,'html.parser')"
   ]
  },
  {
   "cell_type": "code",
   "execution_count": 23,
   "metadata": {},
   "outputs": [],
   "source": [
    "#print(soup.prettify())"
   ]
  },
  {
   "cell_type": "code",
   "execution_count": 24,
   "metadata": {},
   "outputs": [],
   "source": [
    "#fetching job title\n",
    "title = soup.find_all('div', class_='heading_4_5 profile')"
   ]
  },
  {
   "cell_type": "code",
   "execution_count": 10,
   "metadata": {},
   "outputs": [
    {
     "data": {
      "text/plain": [
       "['Omni Sport Leader - Running/Walking ',\n",
       " 'OMNI SPORT LEADER ',\n",
       " 'Production Engineer (Furniture) ',\n",
       " 'Customer Success Coach ',\n",
       " 'Customer Service Specialist ',\n",
       " 'Business Development Executive ',\n",
       " 'Customer Engagement & Event Management Executive ',\n",
       " 'Sales Associate ',\n",
       " 'Corporate Sales Executive ',\n",
       " 'Web Developer ',\n",
       " 'Executive Search Consultant ',\n",
       " 'Creator Acquisition Executive (Business Development) ',\n",
       " 'React Native Developer ',\n",
       " 'Customer Experience ',\n",
       " 'Business Development Executive ',\n",
       " 'Creative Designer ',\n",
       " 'Sales & Business Development Trainee ',\n",
       " 'PHP Developer ',\n",
       " 'Software Engineer - Mobile App Development (Flutter) ',\n",
       " 'Full Stack Developer ',\n",
       " 'Graphic Designer And Video Editor ',\n",
       " 'Automotive Embedded Software Trainee ',\n",
       " 'Sales Associate ',\n",
       " 'Flutter Developer ',\n",
       " 'Web Analytics Developer ',\n",
       " 'Digital Marketing Executive/Growth Hacker ',\n",
       " 'Business Development Manager ',\n",
       " 'Business Development Executive ',\n",
       " 'Graphics Designer ',\n",
       " 'Junior Talent Acquisition Executive ',\n",
       " 'Content Writer ',\n",
       " 'Business Development Associate ',\n",
       " 'Business Development Executive ',\n",
       " 'Software Engineer - Trainee ',\n",
       " 'PHP Developer ',\n",
       " 'MERN Stack Developer ',\n",
       " 'ReactJS/React Native Developer ',\n",
       " 'Personal Assistant ',\n",
       " 'Front End Developer ',\n",
       " 'Trainee Engineer - Electronics And Embedded ']"
      ]
     },
     "execution_count": 10,
     "metadata": {},
     "output_type": "execute_result"
    }
   ],
   "source": [
    "job_title = []\n",
    "for i in range(0,len(title)):\n",
    "    job_title.append(title[i].get_text().replace(\"\\n\",\"\"))\n",
    "job_title"
   ]
  },
  {
   "cell_type": "code",
   "execution_count": 25,
   "metadata": {},
   "outputs": [],
   "source": [
    "#fetching company name\n",
    "company = soup.find_all('div', class_='heading_6 company_name')"
   ]
  },
  {
   "cell_type": "code",
   "execution_count": 12,
   "metadata": {},
   "outputs": [
    {
     "data": {
      "text/plain": [
       "['Decathlon Sports India',\n",
       " 'Decathlon Sport India Private Limited',\n",
       " 'Enhancer Solutions Private Limited (Vhance)',\n",
       " 'Tatva Health',\n",
       " 'ITILITE',\n",
       " 'DataVinci Private Limited',\n",
       " 'Seniorworld.com',\n",
       " 'Mahisa Packaging Systems LLP',\n",
       " 'OMRA Solutions',\n",
       " 'Emertxe Information Technologies',\n",
       " 'Growth360',\n",
       " 'TagMango Private Limited',\n",
       " 'NyuCrush',\n",
       " 'Virya Logistics Technologies Private Limited',\n",
       " 'FrontEdge Academy Private Limited',\n",
       " 'Rehz Technologies',\n",
       " 'Niswey',\n",
       " 'Netling Digital Private Limited',\n",
       " 'Cybermind Works LLP',\n",
       " 'FishyHub',\n",
       " 'Touchstone Partners',\n",
       " 'Amarakosha Technologies Private Limited',\n",
       " 'AmberStudent',\n",
       " 'Techtonic Enterprises Private Limited',\n",
       " 'DataVinci Private Limited',\n",
       " 'Kaholas',\n",
       " 'Touchstone Partners',\n",
       " 'Ahmedabad Agency',\n",
       " 'Kumi Labs',\n",
       " 'Target HR',\n",
       " 'Writeronrent',\n",
       " 'Tripoto',\n",
       " 'Presko Organic',\n",
       " 'RSVR Technlogies Private Limited',\n",
       " 'Skarvi Systems Limited, London, UK',\n",
       " 'Binary Numbers',\n",
       " 'Startxlabs Technologies Private Limited',\n",
       " 'Kegan Executive Search',\n",
       " 'Homejam',\n",
       " 'Apeiron Mobility']"
      ]
     },
     "execution_count": 12,
     "metadata": {},
     "output_type": "execute_result"
    }
   ],
   "source": [
    "company_name = []\n",
    "for i in range(0,len(company)):\n",
    "    company_name.append(company[i].get_text().replace(\"\\n\",\"\").strip(' '))\n",
    "company_name"
   ]
  },
  {
   "cell_type": "code",
   "execution_count": 26,
   "metadata": {},
   "outputs": [],
   "source": [
    "#fetching addiotional information about job\n",
    "aditional_data = soup.find_all('div', class_='item_body')"
   ]
  },
  {
   "cell_type": "code",
   "execution_count": 19,
   "metadata": {},
   "outputs": [
    {
     "data": {
      "text/plain": [
       "['3 - 3.4 LPA',\n",
       " '3 - 4 LPA',\n",
       " '3 - 6 LPA',\n",
       " '3.1 - 3.5 LPA',\n",
       " '3 - 3.1 LPA',\n",
       " '3.49 - 3.5 LPA',\n",
       " '3 - 3.2 LPA',\n",
       " '3 LPA',\n",
       " '3 - 3.2 LPA',\n",
       " '3 LPA',\n",
       " '3 - 3.5 LPA',\n",
       " '4 - 6 LPA',\n",
       " '5.4 - 6 LPA',\n",
       " '3 - 4.5 LPA',\n",
       " '3 LPA',\n",
       " '3 LPA',\n",
       " '3 LPA',\n",
       " '3 LPA',\n",
       " '3 - 4 LPA',\n",
       " '3 - 3.6 LPA',\n",
       " '3 - 5 LPA',\n",
       " '3 LPA',\n",
       " '3.6 - 7 LPA',\n",
       " '3 LPA',\n",
       " '4.99 - 5 LPA',\n",
       " '3 LPA',\n",
       " '4 - 7 LPA',\n",
       " '3 - 3.1 LPA',\n",
       " '3 - 6 LPA',\n",
       " '3 - 4 LPA',\n",
       " '3 - 3.5 LPA',\n",
       " '3 - 4 LPA',\n",
       " '3 - 3.5 LPA',\n",
       " '3.6 LPA',\n",
       " '3 - 3.6 LPA',\n",
       " '3 - 5 LPA',\n",
       " '3 - 7.5 LPA',\n",
       " '3 - 5 LPA',\n",
       " '7 - 8.5 LPA',\n",
       " '5 LPA']"
      ]
     },
     "execution_count": 19,
     "metadata": {},
     "output_type": "execute_result"
    }
   ],
   "source": [
    "#fteching ctc given by that particular comapny\n",
    "company_CTC = []\n",
    "for i in range(1,len(aditional_data),3):\n",
    "    company_CTC.append(aditional_data[i].get_text().replace(\"\\n\",\"\").strip(' '))\n",
    "company_CTC"
   ]
  },
  {
   "cell_type": "code",
   "execution_count": 24,
   "metadata": {},
   "outputs": [
    {
     "data": {
      "text/plain": [
       "[\"7 Oct' 21\",\n",
       " \"18 Sep' 21\",\n",
       " \"11 Oct' 21\",\n",
       " \"10 Oct' 21\",\n",
       " \"10 Oct' 21\",\n",
       " \"10 Oct' 21\",\n",
       " \"10 Oct' 21\",\n",
       " \"10 Oct' 21\",\n",
       " \"10 Oct' 21\",\n",
       " \"10 Oct' 21\",\n",
       " \"10 Oct' 21\",\n",
       " \"9 Oct' 21\",\n",
       " \"9 Oct' 21\",\n",
       " \"9 Oct' 21\",\n",
       " \"9 Oct' 21\",\n",
       " \"9 Oct' 21\",\n",
       " \"9 Oct' 21\",\n",
       " \"9 Oct' 21\",\n",
       " \"9 Oct' 21\",\n",
       " \"9 Oct' 21\",\n",
       " \"9 Oct' 21\",\n",
       " \"9 Oct' 21\",\n",
       " \"9 Oct' 21\",\n",
       " \"9 Oct' 21\",\n",
       " \"9 Oct' 21\",\n",
       " \"9 Oct' 21\",\n",
       " \"9 Oct' 21\",\n",
       " \"8 Oct' 21\",\n",
       " \"8 Oct' 21\",\n",
       " \"8 Oct' 21\",\n",
       " \"8 Oct' 21\",\n",
       " \"8 Oct' 21\",\n",
       " \"8 Oct' 21\",\n",
       " \"8 Oct' 21\",\n",
       " \"8 Oct' 21\",\n",
       " \"7 Oct' 21\",\n",
       " \"7 Oct' 21\",\n",
       " \"7 Oct' 21\",\n",
       " \"7 Oct' 21\",\n",
       " \"7 Oct' 21\"]"
      ]
     },
     "execution_count": 24,
     "metadata": {},
     "output_type": "execute_result"
    }
   ],
   "source": [
    "#fetching applying date\n",
    "apply_date = []\n",
    "for i in range(2,len(aditional_data),3):\n",
    "    apply_date.append(aditional_data[i].get_text().replace(\"\\n\",\"\").strip(' '))\n",
    "apply_date"
   ]
  },
  {
   "cell_type": "code",
   "execution_count": 25,
   "metadata": {},
   "outputs": [],
   "source": [
    "#creating dataframe\n",
    "data = list(zip(job_title,company_name,company_CTC,apply_date))"
   ]
  },
  {
   "cell_type": "code",
   "execution_count": 26,
   "metadata": {},
   "outputs": [],
   "source": [
    "import pandas as pd\n",
    "df = pd.DataFrame(data,columns=['Job_title','Company_name','Compant_CTC','Apply_date'])"
   ]
  },
  {
   "cell_type": "code",
   "execution_count": 27,
   "metadata": {},
   "outputs": [
    {
     "data": {
      "text/html": [
       "<div>\n",
       "<style scoped>\n",
       "    .dataframe tbody tr th:only-of-type {\n",
       "        vertical-align: middle;\n",
       "    }\n",
       "\n",
       "    .dataframe tbody tr th {\n",
       "        vertical-align: top;\n",
       "    }\n",
       "\n",
       "    .dataframe thead th {\n",
       "        text-align: right;\n",
       "    }\n",
       "</style>\n",
       "<table border=\"1\" class=\"dataframe\">\n",
       "  <thead>\n",
       "    <tr style=\"text-align: right;\">\n",
       "      <th></th>\n",
       "      <th>Job_title</th>\n",
       "      <th>Company_name</th>\n",
       "      <th>Compant_CTC</th>\n",
       "      <th>Apply_date</th>\n",
       "    </tr>\n",
       "  </thead>\n",
       "  <tbody>\n",
       "    <tr>\n",
       "      <th>0</th>\n",
       "      <td>Omni Sport Leader - Running/Walking</td>\n",
       "      <td>Decathlon Sports India</td>\n",
       "      <td>3 - 3.4 LPA</td>\n",
       "      <td>7 Oct' 21</td>\n",
       "    </tr>\n",
       "    <tr>\n",
       "      <th>1</th>\n",
       "      <td>OMNI SPORT LEADER</td>\n",
       "      <td>Decathlon Sport India Private Limited</td>\n",
       "      <td>3 - 4 LPA</td>\n",
       "      <td>18 Sep' 21</td>\n",
       "    </tr>\n",
       "    <tr>\n",
       "      <th>2</th>\n",
       "      <td>Production Engineer (Furniture)</td>\n",
       "      <td>Enhancer Solutions Private Limited (Vhance)</td>\n",
       "      <td>3 - 6 LPA</td>\n",
       "      <td>11 Oct' 21</td>\n",
       "    </tr>\n",
       "    <tr>\n",
       "      <th>3</th>\n",
       "      <td>Customer Success Coach</td>\n",
       "      <td>Tatva Health</td>\n",
       "      <td>3.1 - 3.5 LPA</td>\n",
       "      <td>10 Oct' 21</td>\n",
       "    </tr>\n",
       "    <tr>\n",
       "      <th>4</th>\n",
       "      <td>Customer Service Specialist</td>\n",
       "      <td>ITILITE</td>\n",
       "      <td>3 - 3.1 LPA</td>\n",
       "      <td>10 Oct' 21</td>\n",
       "    </tr>\n",
       "  </tbody>\n",
       "</table>\n",
       "</div>"
      ],
      "text/plain": [
       "                              Job_title  \\\n",
       "0  Omni Sport Leader - Running/Walking    \n",
       "1                    OMNI SPORT LEADER    \n",
       "2      Production Engineer (Furniture)    \n",
       "3               Customer Success Coach    \n",
       "4          Customer Service Specialist    \n",
       "\n",
       "                                  Company_name    Compant_CTC  Apply_date  \n",
       "0                       Decathlon Sports India    3 - 3.4 LPA   7 Oct' 21  \n",
       "1        Decathlon Sport India Private Limited      3 - 4 LPA  18 Sep' 21  \n",
       "2  Enhancer Solutions Private Limited (Vhance)      3 - 6 LPA  11 Oct' 21  \n",
       "3                                 Tatva Health  3.1 - 3.5 LPA  10 Oct' 21  \n",
       "4                                      ITILITE    3 - 3.1 LPA  10 Oct' 21  "
      ]
     },
     "execution_count": 27,
     "metadata": {},
     "output_type": "execute_result"
    }
   ],
   "source": [
    "df.head()"
   ]
  },
  {
   "cell_type": "code",
   "execution_count": null,
   "metadata": {},
   "outputs": [],
   "source": []
  },
  {
   "cell_type": "code",
   "execution_count": null,
   "metadata": {},
   "outputs": [],
   "source": []
  },
  {
   "cell_type": "code",
   "execution_count": null,
   "metadata": {},
   "outputs": [],
   "source": []
  },
  {
   "cell_type": "code",
   "execution_count": null,
   "metadata": {},
   "outputs": [],
   "source": []
  }
 ],
 "metadata": {
  "kernelspec": {
   "display_name": "Python 3",
   "language": "python",
   "name": "python3"
  },
  "language_info": {
   "codemirror_mode": {
    "name": "ipython",
    "version": 3
   },
   "file_extension": ".py",
   "mimetype": "text/x-python",
   "name": "python",
   "nbconvert_exporter": "python",
   "pygments_lexer": "ipython3",
   "version": "3.6.4"
  }
 },
 "nbformat": 4,
 "nbformat_minor": 2
}
