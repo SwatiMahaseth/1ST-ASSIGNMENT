{
 "cells": [
  {
   "cell_type": "code",
   "execution_count": 1,
   "metadata": {},
   "outputs": [],
   "source": [
    "import requests\n",
    "from bs4 import BeautifulSoup"
   ]
  },
  {
   "cell_type": "code",
   "execution_count": 2,
   "metadata": {},
   "outputs": [],
   "source": [
    "#amazon url\n",
    "amazon_url= 'https://www.amazon.in/s?k=smartphone+under+20000&rh=n%3A976419031%2Cp_36%3A1318506031&dc&qid=1631345642&rnid=1318502031&ref=sr_nr_p_36_4'"
   ]
  },
  {
   "cell_type": "code",
   "execution_count": 3,
   "metadata": {},
   "outputs": [],
   "source": [
    "page = requests.get(amazon_url)"
   ]
  },
  {
   "cell_type": "code",
   "execution_count": 4,
   "metadata": {},
   "outputs": [
    {
     "data": {
      "text/plain": [
       "<Response [200]>"
      ]
     },
     "execution_count": 4,
     "metadata": {},
     "output_type": "execute_result"
    }
   ],
   "source": [
    "page"
   ]
  },
  {
   "cell_type": "code",
   "execution_count": 5,
   "metadata": {},
   "outputs": [],
   "source": [
    "htmlContent= page.content"
   ]
  },
  {
   "cell_type": "code",
   "execution_count": 68,
   "metadata": {},
   "outputs": [],
   "source": [
    "#htmlContent"
   ]
  },
  {
   "cell_type": "code",
   "execution_count": 7,
   "metadata": {},
   "outputs": [],
   "source": [
    "soup= BeautifulSoup(htmlContent,'html.parser')"
   ]
  },
  {
   "cell_type": "code",
   "execution_count": 69,
   "metadata": {},
   "outputs": [],
   "source": [
    "#print(soup.prettify())"
   ]
  },
  {
   "cell_type": "code",
   "execution_count": 70,
   "metadata": {},
   "outputs": [],
   "source": [
    "#fetching mobile name under 20000\n",
    "names= soup.find_all('span', class_='a-size-medium a-color-base a-text-normal')"
   ]
  },
  {
   "cell_type": "code",
   "execution_count": 11,
   "metadata": {},
   "outputs": [
    {
     "data": {
      "text/plain": [
       "['OPPO A31 (Fantasy White, 6GB RAM, 128GB Storage) with No Cost EMI/Additional Exchange Offers',\n",
       " 'Redmi Note 10 Pro (Dark Night, 6GB RAM, 128GB Storage) -120hz Super Amoled Display|64MPwith 5mp Super Tele-Macro',\n",
       " 'Redmi 9 Prime (Space Blue, 4GB RAM, 64GB Storage)- Full HD+ Display & AI Quad Camera',\n",
       " 'OPPO A31 (Mystery Black, 6GB RAM, 128GB Storage) with No Cost EMI/Additional Exchange Offers',\n",
       " 'realme narzo 30 (Racing Blue, 6GB RAM, 128GB Storage) - MediaTek Helio G95 processor I Full HD+ display with No Cost EMI/Additional Exchange Offers',\n",
       " 'Redmi Note 10S (Shadow Black, 6GB RAM, 64GB Storage) - Super Amoled Display | 64 MP Quad Camera',\n",
       " 'Redmi 9 Prime (Sunrise Flare, 4GB RAM, 64GB Storage)- Full HD+ Display & AI Quad Camera',\n",
       " 'Redmi 9 Power (Electric Green, 6GB RAM, 128GB Storage) - 6000mAh Battery|FHD+ Screen | 48MP Quad Camera | Snapdragon 662 Processor | Alexa Hands-Free Capable',\n",
       " 'OPPO A31 (Mystery Black, 4GB RAM, 64GB Storage) with No Cost EMI/Additional Exchange Offers',\n",
       " 'Redmi 9 Power (Mighty Black 4GB RAM 64GB Storage) - 6000mAh Battery |FHD+ Screen | 48MP Quad Camera | Alexa Hands-Free Capable',\n",
       " 'Samsung Galaxy M12 (Blue,4GB RAM, 64GB Storage) 6000 mAh with 8nm Processor | True 48 MP Quad Camera | 90Hz Refresh Rate',\n",
       " 'Redmi Note 10 (Aqua Green, 4GB RAM, 64GB Storage) -Amoled Dot Display | 48MP Sony Sensor IMX582 | Snapdragon 678 Processor',\n",
       " 'OPPO A74 5G (Fantastic Purple,6GB RAM,128GB Storage) - 5G Android Smartphone | 5000 mAh Battery | 18W Fast Charge | 90Hz LCD Display',\n",
       " 'Samsung Galaxy M31 (Ocean Blue, 8GB RAM, 128GB Storage) 6 Months Free Screen Replacement for Prime',\n",
       " \"iQOO Z3 5G (Cyber Blue, 6GB RAM, 128GB Storage) | India's First SD 768G 5G Processor | 55W FlashCharge | Upto 9 Months No Cost EMI | 6 Months Free Screen Replacement\",\n",
       " 'OPPO A74 5G (Fluid Black,6GB RAM,128GB Storage) - 5G Android Smartphone | 5000 mAh Battery | 18W Fast Charge | 90Hz LCD Display',\n",
       " 'Vivo Y12s (Glacier Blue, 3GB, 32GB ) with No Cost EMI/Additional Exchange Offers',\n",
       " 'Oppo F17 (Dynamic Orange, 6GB RAM, 128GB Storage) with No Cost EMI/Additional Exchange Offers',\n",
       " 'Vivo Y12s (Phantom Black, 3GB, 32GB ) with No Cost EMI/Additional Exchange Offers',\n",
       " 'Nokia G20 Smartphone, Dual SIM 4G, 4GB RAM/64GB Storage, 48MP Quad Camera with 6.5” (16.51 cm) Screen | Silver',\n",
       " 'realme narzo 30 5G (Racing Blue, 6GB RAM, 128GB Storage) - MediaTek Dimensity 700 processor I Full HD+ display with No Cost EMI/Additional Exchange Offers',\n",
       " \"iQOO Z3 5G (Ace Black, 6GB RAM, 128GB Storage) | India's First SD 768G 5G Processor | 55W FlashCharge | Upto 9 Months No Cost EMI | 6 Months Free Screen Replacement\",\n",
       " 'Samsung Galaxy M32 (Light Blue, 4GB RAM, 64GB Storage) 6 Months Free Screen Replacement for Prime',\n",
       " 'Vivo Y33s (Mirror Black, 8GB RAM, 128GB Storage) with No Cost EMI/Additional Exchange Offers']"
      ]
     },
     "execution_count": 11,
     "metadata": {},
     "output_type": "execute_result"
    }
   ],
   "source": [
    "mobile_name= []\n",
    "for i in range(0,len(names)):\n",
    "    mobile_name.append(names[i].get_text())\n",
    "mobile_name"
   ]
  },
  {
   "cell_type": "code",
   "execution_count": 71,
   "metadata": {},
   "outputs": [],
   "source": [
    "#fetching price for that particular mobile\n",
    "price = soup.find_all('span', class_='a-price-whole')"
   ]
  },
  {
   "cell_type": "code",
   "execution_count": 13,
   "metadata": {},
   "outputs": [
    {
     "data": {
      "text/plain": [
       "['12,490',\n",
       " '17,999',\n",
       " '10,499',\n",
       " '12,490',\n",
       " '15,499',\n",
       " '14,999',\n",
       " '10,499',\n",
       " '13,499',\n",
       " '10,990',\n",
       " '11,499',\n",
       " '11,499',\n",
       " '13,999',\n",
       " '17,990',\n",
       " '16,999',\n",
       " '19,990',\n",
       " '17,990',\n",
       " '10,990',\n",
       " '16,490',\n",
       " '10,990',\n",
       " '12,990',\n",
       " '16,999',\n",
       " '19,990',\n",
       " '14,999',\n",
       " '17,990']"
      ]
     },
     "execution_count": 13,
     "metadata": {},
     "output_type": "execute_result"
    }
   ],
   "source": [
    "mobile_price= []\n",
    "for i in range(0,len(price)):\n",
    "    mobile_price.append(price[i].get_text())\n",
    "mobile_price"
   ]
  },
  {
   "cell_type": "code",
   "execution_count": 72,
   "metadata": {},
   "outputs": [],
   "source": [
    "#fetching rating for that particular mobile\n",
    "rating = soup.find_all('span', class_='a-icon-alt')"
   ]
  },
  {
   "cell_type": "code",
   "execution_count": 16,
   "metadata": {},
   "outputs": [
    {
     "data": {
      "text/plain": [
       "['4.2 out of 5 stars',\n",
       " '4.2 out of 5 stars',\n",
       " '4.3 out of 5 stars',\n",
       " '4.2 out of 5 stars',\n",
       " '4.0 out of 5 stars',\n",
       " '4.1 out of 5 stars',\n",
       " '4.3 out of 5 stars',\n",
       " '4.2 out of 5 stars',\n",
       " '4.2 out of 5 stars',\n",
       " '4.2 out of 5 stars',\n",
       " '4.1 out of 5 stars',\n",
       " '4.2 out of 5 stars',\n",
       " '4.2 out of 5 stars',\n",
       " '4.3 out of 5 stars',\n",
       " '4.3 out of 5 stars',\n",
       " '4.2 out of 5 stars',\n",
       " '4.2 out of 5 stars',\n",
       " '4.2 out of 5 stars',\n",
       " '4.2 out of 5 stars',\n",
       " '3.7 out of 5 stars',\n",
       " '4.0 out of 5 stars',\n",
       " '4.3 out of 5 stars',\n",
       " '4.2 out of 5 stars',\n",
       " '4.2 out of 5 stars',\n",
       " '4 Stars & Up',\n",
       " '3 Stars & Up',\n",
       " '2 Stars & Up',\n",
       " '1 Star & Up']"
      ]
     },
     "execution_count": 16,
     "metadata": {},
     "output_type": "execute_result"
    }
   ],
   "source": [
    "mobile_rating= []\n",
    "for i in range(0,len(rating)):\n",
    "    mobile_rating.append(rating[i].get_text())\n",
    "mobile_rating"
   ]
  },
  {
   "cell_type": "code",
   "execution_count": 17,
   "metadata": {},
   "outputs": [],
   "source": [
    "#fetching image url for that particular mobile\n",
    "img_url=[]\n",
    "for i in soup.find_all('img', class_=\"s-image\"):\n",
    "    img_url.append(i.get('src'))"
   ]
  },
  {
   "cell_type": "code",
   "execution_count": 18,
   "metadata": {},
   "outputs": [
    {
     "data": {
      "text/plain": [
       "['https://m.media-amazon.com/images/I/61CnyJ-IbML._AC_UY218_.jpg',\n",
       " 'https://m.media-amazon.com/images/I/81S-XYJlzTL._AC_UY218_.jpg',\n",
       " 'https://m.media-amazon.com/images/I/71U2SiHgbiL._AC_UY218_.jpg',\n",
       " 'https://m.media-amazon.com/images/I/71KCwNV6MuL._AC_UY218_.jpg',\n",
       " 'https://m.media-amazon.com/images/I/719tm7l723L._AC_UY218_.jpg',\n",
       " 'https://m.media-amazon.com/images/I/81R9c74pmDL._AC_UY218_.jpg',\n",
       " 'https://m.media-amazon.com/images/I/71U2SiHgbiL._AC_UY218_.jpg',\n",
       " 'https://m.media-amazon.com/images/I/61EIaUqatTL._AC_UY218_.jpg',\n",
       " 'https://m.media-amazon.com/images/I/71KCwNV6MuL._AC_UY218_.jpg',\n",
       " 'https://m.media-amazon.com/images/I/71hEzQGO5qL._AC_UY218_.jpg',\n",
       " 'https://m.media-amazon.com/images/I/71yYaNztZ0L._AC_UY218_.jpg',\n",
       " 'https://m.media-amazon.com/images/I/810GQ7CWdDL._AC_UY218_.jpg',\n",
       " 'https://m.media-amazon.com/images/I/71geVdy6-OS._AC_UY218_.jpg',\n",
       " 'https://m.media-amazon.com/images/I/71-Su4Wr0HL._AC_UY218_.jpg',\n",
       " 'https://m.media-amazon.com/images/I/615CXlFtDDS._AC_UY218_.jpg',\n",
       " 'https://m.media-amazon.com/images/I/71poFSdDs5S._AC_UY218_.jpg',\n",
       " 'https://m.media-amazon.com/images/I/71MeL149KBL._AC_UY218_.jpg',\n",
       " 'https://m.media-amazon.com/images/I/81-xJ79cnjL._AC_UY218_.jpg',\n",
       " 'https://m.media-amazon.com/images/I/71UAi2jwsNL._AC_UY218_.jpg',\n",
       " 'https://m.media-amazon.com/images/I/61NoYt2pvpS._AC_UY218_.jpg',\n",
       " 'https://m.media-amazon.com/images/I/719tm7l723L._AC_UY218_.jpg',\n",
       " 'https://m.media-amazon.com/images/I/61uIgwiP90S._AC_UY218_.jpg',\n",
       " 'https://m.media-amazon.com/images/I/71F4jU7MRUS._AC_UY218_.jpg',\n",
       " 'https://m.media-amazon.com/images/I/51xFckqp4yL._AC_UY218_.jpg']"
      ]
     },
     "execution_count": 18,
     "metadata": {},
     "output_type": "execute_result"
    }
   ],
   "source": [
    "img_url"
   ]
  },
  {
   "cell_type": "code",
   "execution_count": 19,
   "metadata": {},
   "outputs": [],
   "source": [
    "#creating dataframe\n",
    "data = list(zip(mobile_name,mobile_price,mobile_rating,img_url))"
   ]
  },
  {
   "cell_type": "code",
   "execution_count": 20,
   "metadata": {},
   "outputs": [],
   "source": [
    "import pandas as pd\n",
    "df = pd.DataFrame(data,columns=['mobile_name','mobile_price','mobile_rating','img_url'])"
   ]
  },
  {
   "cell_type": "code",
   "execution_count": 21,
   "metadata": {},
   "outputs": [
    {
     "data": {
      "text/html": [
       "<div>\n",
       "<style scoped>\n",
       "    .dataframe tbody tr th:only-of-type {\n",
       "        vertical-align: middle;\n",
       "    }\n",
       "\n",
       "    .dataframe tbody tr th {\n",
       "        vertical-align: top;\n",
       "    }\n",
       "\n",
       "    .dataframe thead th {\n",
       "        text-align: right;\n",
       "    }\n",
       "</style>\n",
       "<table border=\"1\" class=\"dataframe\">\n",
       "  <thead>\n",
       "    <tr style=\"text-align: right;\">\n",
       "      <th></th>\n",
       "      <th>mobile_name</th>\n",
       "      <th>mobile_price</th>\n",
       "      <th>mobile_rating</th>\n",
       "      <th>img_url</th>\n",
       "    </tr>\n",
       "  </thead>\n",
       "  <tbody>\n",
       "    <tr>\n",
       "      <th>0</th>\n",
       "      <td>OPPO A31 (Fantasy White, 6GB RAM, 128GB Storag...</td>\n",
       "      <td>12,490</td>\n",
       "      <td>4.2 out of 5 stars</td>\n",
       "      <td>https://m.media-amazon.com/images/I/61CnyJ-IbM...</td>\n",
       "    </tr>\n",
       "    <tr>\n",
       "      <th>1</th>\n",
       "      <td>Redmi Note 10 Pro (Dark Night, 6GB RAM, 128GB ...</td>\n",
       "      <td>17,999</td>\n",
       "      <td>4.2 out of 5 stars</td>\n",
       "      <td>https://m.media-amazon.com/images/I/81S-XYJlzT...</td>\n",
       "    </tr>\n",
       "    <tr>\n",
       "      <th>2</th>\n",
       "      <td>Redmi 9 Prime (Space Blue, 4GB RAM, 64GB Stora...</td>\n",
       "      <td>10,499</td>\n",
       "      <td>4.3 out of 5 stars</td>\n",
       "      <td>https://m.media-amazon.com/images/I/71U2SiHgbi...</td>\n",
       "    </tr>\n",
       "    <tr>\n",
       "      <th>3</th>\n",
       "      <td>OPPO A31 (Mystery Black, 6GB RAM, 128GB Storag...</td>\n",
       "      <td>12,490</td>\n",
       "      <td>4.2 out of 5 stars</td>\n",
       "      <td>https://m.media-amazon.com/images/I/71KCwNV6Mu...</td>\n",
       "    </tr>\n",
       "    <tr>\n",
       "      <th>4</th>\n",
       "      <td>realme narzo 30 (Racing Blue, 6GB RAM, 128GB S...</td>\n",
       "      <td>15,499</td>\n",
       "      <td>4.0 out of 5 stars</td>\n",
       "      <td>https://m.media-amazon.com/images/I/719tm7l723...</td>\n",
       "    </tr>\n",
       "  </tbody>\n",
       "</table>\n",
       "</div>"
      ],
      "text/plain": [
       "                                         mobile_name mobile_price  \\\n",
       "0  OPPO A31 (Fantasy White, 6GB RAM, 128GB Storag...       12,490   \n",
       "1  Redmi Note 10 Pro (Dark Night, 6GB RAM, 128GB ...       17,999   \n",
       "2  Redmi 9 Prime (Space Blue, 4GB RAM, 64GB Stora...       10,499   \n",
       "3  OPPO A31 (Mystery Black, 6GB RAM, 128GB Storag...       12,490   \n",
       "4  realme narzo 30 (Racing Blue, 6GB RAM, 128GB S...       15,499   \n",
       "\n",
       "        mobile_rating                                            img_url  \n",
       "0  4.2 out of 5 stars  https://m.media-amazon.com/images/I/61CnyJ-IbM...  \n",
       "1  4.2 out of 5 stars  https://m.media-amazon.com/images/I/81S-XYJlzT...  \n",
       "2  4.3 out of 5 stars  https://m.media-amazon.com/images/I/71U2SiHgbi...  \n",
       "3  4.2 out of 5 stars  https://m.media-amazon.com/images/I/71KCwNV6Mu...  \n",
       "4  4.0 out of 5 stars  https://m.media-amazon.com/images/I/719tm7l723...  "
      ]
     },
     "execution_count": 21,
     "metadata": {},
     "output_type": "execute_result"
    }
   ],
   "source": [
    "df.head()"
   ]
  },
  {
   "cell_type": "code",
   "execution_count": null,
   "metadata": {},
   "outputs": [],
   "source": []
  },
  {
   "cell_type": "code",
   "execution_count": null,
   "metadata": {},
   "outputs": [],
   "source": []
  },
  {
   "cell_type": "code",
   "execution_count": null,
   "metadata": {},
   "outputs": [],
   "source": []
  },
  {
   "cell_type": "code",
   "execution_count": null,
   "metadata": {},
   "outputs": [],
   "source": []
  },
  {
   "cell_type": "code",
   "execution_count": null,
   "metadata": {},
   "outputs": [],
   "source": []
  },
  {
   "cell_type": "code",
   "execution_count": null,
   "metadata": {},
   "outputs": [],
   "source": []
  },
  {
   "cell_type": "code",
   "execution_count": null,
   "metadata": {},
   "outputs": [],
   "source": []
  },
  {
   "cell_type": "code",
   "execution_count": null,
   "metadata": {},
   "outputs": [],
   "source": []
  },
  {
   "cell_type": "code",
   "execution_count": null,
   "metadata": {},
   "outputs": [],
   "source": []
  },
  {
   "cell_type": "code",
   "execution_count": null,
   "metadata": {},
   "outputs": [],
   "source": []
  },
  {
   "cell_type": "code",
   "execution_count": null,
   "metadata": {},
   "outputs": [],
   "source": []
  },
  {
   "cell_type": "code",
   "execution_count": null,
   "metadata": {},
   "outputs": [],
   "source": []
  },
  {
   "cell_type": "code",
   "execution_count": null,
   "metadata": {},
   "outputs": [],
   "source": []
  },
  {
   "cell_type": "code",
   "execution_count": null,
   "metadata": {},
   "outputs": [],
   "source": []
  },
  {
   "cell_type": "code",
   "execution_count": null,
   "metadata": {},
   "outputs": [],
   "source": []
  },
  {
   "cell_type": "code",
   "execution_count": null,
   "metadata": {},
   "outputs": [],
   "source": []
  },
  {
   "cell_type": "code",
   "execution_count": null,
   "metadata": {},
   "outputs": [],
   "source": []
  },
  {
   "cell_type": "code",
   "execution_count": null,
   "metadata": {},
   "outputs": [],
   "source": []
  }
 ],
 "metadata": {
  "kernelspec": {
   "display_name": "Python 3",
   "language": "python",
   "name": "python3"
  },
  "language_info": {
   "codemirror_mode": {
    "name": "ipython",
    "version": 3
   },
   "file_extension": ".py",
   "mimetype": "text/x-python",
   "name": "python",
   "nbconvert_exporter": "python",
   "pygments_lexer": "ipython3",
   "version": "3.6.4"
  }
 },
 "nbformat": 4,
 "nbformat_minor": 2
}
