{
 "cells": [
  {
   "cell_type": "code",
   "execution_count": 1,
   "metadata": {},
   "outputs": [],
   "source": [
    "import requests\n",
    "from bs4 import BeautifulSoup"
   ]
  },
  {
   "cell_type": "code",
   "execution_count": 2,
   "metadata": {},
   "outputs": [],
   "source": [
    "#fetching book url\n",
    "source = 'https://bookpage.com/reviews'"
   ]
  },
  {
   "cell_type": "code",
   "execution_count": 3,
   "metadata": {},
   "outputs": [],
   "source": [
    "r = requests.get(source)\n",
    "htmlContent= r.content\n",
    "soup= BeautifulSoup(htmlContent,'html.parser')"
   ]
  },
  {
   "cell_type": "code",
   "execution_count": 18,
   "metadata": {},
   "outputs": [],
   "source": [
    "#print(soup.prettify)"
   ]
  },
  {
   "cell_type": "code",
   "execution_count": 19,
   "metadata": {},
   "outputs": [],
   "source": [
    "#print(soup.get_text())"
   ]
  },
  {
   "cell_type": "code",
   "execution_count": 6,
   "metadata": {},
   "outputs": [],
   "source": [
    "#fetching all the books detail\n",
    "books = soup.find_all('div',class_='row-fluid article-row')"
   ]
  },
  {
   "cell_type": "code",
   "execution_count": 20,
   "metadata": {},
   "outputs": [],
   "source": [
    "#print(books)"
   ]
  },
  {
   "cell_type": "code",
   "execution_count": 8,
   "metadata": {},
   "outputs": [],
   "source": [
    "first_book = books[0]"
   ]
  },
  {
   "cell_type": "code",
   "execution_count": 9,
   "metadata": {},
   "outputs": [
    {
     "data": {
      "text/plain": [
       "'A Play for the End of the World'"
      ]
     },
     "execution_count": 9,
     "metadata": {},
     "output_type": "execute_result"
    }
   ],
   "source": [
    "#name of first book\n",
    "first_book.find('h4',class_='italic').a.text"
   ]
  },
  {
   "cell_type": "code",
   "execution_count": 10,
   "metadata": {},
   "outputs": [
    {
     "data": {
      "text/plain": [
       "'Jai Chakrabarti'"
      ]
     },
     "execution_count": 10,
     "metadata": {},
     "output_type": "execute_result"
    }
   ],
   "source": [
    "#author's name of first book\n",
    "first_book.find('p',class_='sans bold').text.replace(\"\\n\",\"\")"
   ]
  },
  {
   "cell_type": "code",
   "execution_count": 11,
   "metadata": {},
   "outputs": [
    {
     "data": {
      "text/plain": [
       "'Fiction'"
      ]
     },
     "execution_count": 11,
     "metadata": {},
     "output_type": "execute_result"
    }
   ],
   "source": [
    "#genre of first book\n",
    "first_book.find('p',class_='genre-links hidden-phone').a.text"
   ]
  },
  {
   "cell_type": "code",
   "execution_count": 12,
   "metadata": {},
   "outputs": [
    {
     "data": {
      "text/plain": [
       "'Jai Chakrabarti’s debut novel is breathtakingly poignant, with a payoff that’s more than worth the trip if you have the heart to withstand it.'"
      ]
     },
     "execution_count": 12,
     "metadata": {},
     "output_type": "execute_result"
    }
   ],
   "source": [
    "#review of first book\n",
    "first_book.find('p',class_='excerpt').text.replace(\"\\n\",\"\")"
   ]
  },
  {
   "cell_type": "code",
   "execution_count": 13,
   "metadata": {},
   "outputs": [
    {
     "data": {
      "text/plain": [
       "' ★ Beautiful Country'"
      ]
     },
     "execution_count": 13,
     "metadata": {},
     "output_type": "execute_result"
    }
   ],
   "source": [
    "second_book = books[1]\n",
    "second_book.find('h4',class_='italic').a.text"
   ]
  },
  {
   "cell_type": "code",
   "execution_count": 14,
   "metadata": {},
   "outputs": [],
   "source": [
    "#fetching details abouth other books\n",
    "Book_Name = [] \n",
    "Author_Name = []\n",
    "genre = []\n",
    "review = []\n",
    "for i in books[0:5]:\n",
    "    Book_Name.append(i.find('h4',class_='italic').a.text)\n",
    "    Author_Name.append(i.find('p',class_='sans bold').text.replace(\"\\n\",\"\"))\n",
    "    genre.append(i.find('p',class_='genre-links hidden-phone').a.text)\n",
    "    review.append(i.find('p',class_='excerpt').text.replace(\"\\n\",\"\"))"
   ]
  },
  {
   "cell_type": "code",
   "execution_count": 15,
   "metadata": {},
   "outputs": [],
   "source": [
    "#creating dataframe\n",
    "data = list(zip(Book_Name,Author_Name,genre,review))"
   ]
  },
  {
   "cell_type": "code",
   "execution_count": 16,
   "metadata": {},
   "outputs": [],
   "source": [
    "import pandas as pd\n",
    "df = pd.DataFrame(data,columns=['Book_Name','Author_Name','genre','review'])"
   ]
  },
  {
   "cell_type": "code",
   "execution_count": 17,
   "metadata": {},
   "outputs": [
    {
     "data": {
      "text/html": [
       "<div>\n",
       "<style scoped>\n",
       "    .dataframe tbody tr th:only-of-type {\n",
       "        vertical-align: middle;\n",
       "    }\n",
       "\n",
       "    .dataframe tbody tr th {\n",
       "        vertical-align: top;\n",
       "    }\n",
       "\n",
       "    .dataframe thead th {\n",
       "        text-align: right;\n",
       "    }\n",
       "</style>\n",
       "<table border=\"1\" class=\"dataframe\">\n",
       "  <thead>\n",
       "    <tr style=\"text-align: right;\">\n",
       "      <th></th>\n",
       "      <th>Book_Name</th>\n",
       "      <th>Author_Name</th>\n",
       "      <th>genre</th>\n",
       "      <th>review</th>\n",
       "    </tr>\n",
       "  </thead>\n",
       "  <tbody>\n",
       "    <tr>\n",
       "      <th>0</th>\n",
       "      <td>A Play for the End of the World</td>\n",
       "      <td>Jai Chakrabarti</td>\n",
       "      <td>Fiction</td>\n",
       "      <td>Jai Chakrabarti’s debut novel is breathtakingl...</td>\n",
       "    </tr>\n",
       "    <tr>\n",
       "      <th>1</th>\n",
       "      <td>★ Beautiful Country</td>\n",
       "      <td>Qian Julie Wang</td>\n",
       "      <td>Nonfiction</td>\n",
       "      <td>Qian Julie Wang courageously reveals her uniqu...</td>\n",
       "    </tr>\n",
       "    <tr>\n",
       "      <th>2</th>\n",
       "      <td>The Archer</td>\n",
       "      <td>Shruti Swamy</td>\n",
       "      <td>Fiction</td>\n",
       "      <td>As a child, Vidya “wanted to be marked, altere...</td>\n",
       "    </tr>\n",
       "    <tr>\n",
       "      <th>3</th>\n",
       "      <td>★ Humane</td>\n",
       "      <td>Samuel Moyn</td>\n",
       "      <td>Nonfiction</td>\n",
       "      <td>In his enlightening and provocative book, Samu...</td>\n",
       "    </tr>\n",
       "    <tr>\n",
       "      <th>4</th>\n",
       "      <td>Defy the Night</td>\n",
       "      <td>Brigid Kemmerer</td>\n",
       "      <td>YA</td>\n",
       "      <td>King Harristan and his brother, Prince Corrick...</td>\n",
       "    </tr>\n",
       "  </tbody>\n",
       "</table>\n",
       "</div>"
      ],
      "text/plain": [
       "                         Book_Name      Author_Name       genre  \\\n",
       "0  A Play for the End of the World  Jai Chakrabarti     Fiction   \n",
       "1              ★ Beautiful Country  Qian Julie Wang  Nonfiction   \n",
       "2                       The Archer     Shruti Swamy     Fiction   \n",
       "3                         ★ Humane      Samuel Moyn  Nonfiction   \n",
       "4                   Defy the Night  Brigid Kemmerer          YA   \n",
       "\n",
       "                                              review  \n",
       "0  Jai Chakrabarti’s debut novel is breathtakingl...  \n",
       "1  Qian Julie Wang courageously reveals her uniqu...  \n",
       "2  As a child, Vidya “wanted to be marked, altere...  \n",
       "3  In his enlightening and provocative book, Samu...  \n",
       "4  King Harristan and his brother, Prince Corrick...  "
      ]
     },
     "execution_count": 17,
     "metadata": {},
     "output_type": "execute_result"
    }
   ],
   "source": [
    "df.head(6)"
   ]
  }
 ],
 "metadata": {
  "kernelspec": {
   "display_name": "Python 3",
   "language": "python",
   "name": "python3"
  },
  "language_info": {
   "codemirror_mode": {
    "name": "ipython",
    "version": 3
   },
   "file_extension": ".py",
   "mimetype": "text/x-python",
   "name": "python",
   "nbconvert_exporter": "python",
   "pygments_lexer": "ipython3",
   "version": "3.6.4"
  }
 },
 "nbformat": 4,
 "nbformat_minor": 2
}
